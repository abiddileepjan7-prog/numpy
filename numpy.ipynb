{
  "nbformat": 4,
  "nbformat_minor": 0,
  "metadata": {
    "colab": {
      "provenance": [],
      "authorship_tag": "ABX9TyPCnU94DPUNE4WWMhD8xKCh",
      "include_colab_link": true
    },
    "kernelspec": {
      "name": "python3",
      "display_name": "Python 3"
    },
    "language_info": {
      "name": "python"
    }
  },
  "cells": [
    {
      "cell_type": "markdown",
      "metadata": {
        "id": "view-in-github",
        "colab_type": "text"
      },
      "source": [
        "<a href=\"https://colab.research.google.com/github/abiddileepjan7-prog/numpy/blob/main/numpy.ipynb\" target=\"_parent\"><img src=\"https://colab.research.google.com/assets/colab-badge.svg\" alt=\"Open In Colab\"/></a>"
      ]
    },
    {
      "cell_type": "markdown",
      "source": [
        
      ],
      "metadata": {
        "id": "YRXxiVjQFuVM"
      }
    },
    {
      "cell_type": "code",
      "execution_count": null,
      "metadata": {
        "colab": {
          "base_uri": "https://localhost:8080/"
        },
        "id": "mY5fOTQHE2A0",
        "outputId": "be96087a-7255-422c-dad8-c7830032a58f"
      },
      "outputs": [
        {
          "output_type": "stream",
          "name": "stdout",
          "text": [
            "[1 2 3 4]\n"
          ]
        }
      ],
      "source": [
        "import numpy as np   # numerical python\n",
        "\n",
        "#array --- collection of data of same data type(homogenious data)\n",
        "\n",
        "a=np.array([1,2,3,4])\n",
        "print(a)\n"
      ]
    },
    {
      "cell_type": "code",
      "source": [
        "import numpy as np   # numerical python\n",
        "\n",
        "#array --- collection of data of same data type(homogenious data)\n",
        "\n",
        "a=np.array([1,2,3,4,\"'abid\"])\n",
        "print(a)\n"
      ],
      "metadata": {
        "colab": {
          "base_uri": "https://localhost:8080/"
        },
        "id": "dQyFB4SpGkVb",
        "outputId": "2bac3131-620d-4466-c31f-1c56dc52199e"
      },
      "execution_count": null,
      "outputs": [
        {
          "output_type": "stream",
          "name": "stdout",
          "text": [
            "['1' '2' '3' '4' \"'abid\"]\n"
          ]
        }
      ]
    },
    {
      "cell_type": "code",
      "source": [
        "# slicing in array\n",
        "\n",
        "b=np.array([1,2,3,4,5])\n",
        "\n",
        "\n",
        "#print 1,2\n",
        "print(b[0:2])\n",
        "\n",
        "#print 2,1\n",
        "print(b[-4::-1])\n",
        "\n",
        "#print 5,4\n",
        "print(b[-1:-3:-1])\n",
        "\n",
        "#print 4,5\n",
        "print(b[3::])"
      ],
      "metadata": {
        "colab": {
          "base_uri": "https://localhost:8080/"
        },
        "id": "gCtYH4zgG80V",
        "outputId": "c626d4db-b63a-4394-edff-691180da73d0"
      },
      "execution_count": null,
      "outputs": [
        {
          "output_type": "stream",
          "name": "stdout",
          "text": [
            "[1 2]\n",
            "[2 1]\n",
            "[5 4]\n",
            "[4 5]\n"
          ]
        }
      ]
    },
    {
      "cell_type": "code",
      "source": [
        "# dimension\n",
        "\n",
        "a=np.array([0,1,2,3])\n",
        "\n",
        "print(a.ndim)  # ndim is used to check the dimension\n",
        " # ndim=1 it is vector\n",
        "\n",
        "b=np.array([[1,2],[2,3],[3,4]])\n",
        "print(b.ndim)  #ndim=2 so 2-d array\n",
        "print(b)\n",
        "\n",
        "print(b.shape)  # to know the shape  or know hoe namy rows,columns   o/p ===(3,2)   rows 2 columns"
      ],
      "metadata": {
        "colab": {
          "base_uri": "https://localhost:8080/"
        },
        "id": "WjD65PzBHeod",
        "outputId": "67de23bb-a3e2-440d-a14e-3cfa704f8fae"
      },
      "execution_count": null,
      "outputs": [
        {
          "output_type": "stream",
          "name": "stdout",
          "text": [
            "1\n",
            "2\n",
            "[[1 2]\n",
            " [2 3]\n",
            " [3 4]]\n",
            "(3, 2)\n"
          ]
        }
      ]
    },
    {
      "cell_type": "code",
      "source": [
        "# create a 2*2 matrix 2,3,4,5\n",
        "\n",
        "a=np.array([[2,3],[4,5]])\n",
        "print(a.shape)\n",
        "print(a.ndim)\n",
        "print(a)"
      ],
      "metadata": {
        "colab": {
          "base_uri": "https://localhost:8080/"
        },
        "id": "NarCFyPMJM4C",
        "outputId": "b8dacf81-b862-4cfb-ac7f-089ab14d8376"
      },
      "execution_count": null,
      "outputs": [
        {
          "output_type": "stream",
          "name": "stdout",
          "text": [
            "(2, 2)\n",
            "2\n",
            "[[2 3]\n",
            " [4 5]]\n"
          ]
        }
      ]
    },
    {
      "cell_type": "code",
      "source": [
        "print(a.size)  # to know the total number of elements"
      ],
      "metadata": {
        "colab": {
          "base_uri": "https://localhost:8080/"
        },
        "id": "6dihUoxvKnb8",
        "outputId": "3f478f91-07da-4b65-eac0-2cc7e96e9d31"
      },
      "execution_count": null,
      "outputs": [
        {
          "output_type": "stream",
          "name": "stdout",
          "text": [
            "4\n"
          ]
        }
      ]
    },
    {
      "cell_type": "code",
      "source": [
        "# create a 2*3 matrix and print it,size,shape,dimension\n",
        "\n",
        "m=np.array([[1,2,3],[3,4,5]])\n",
        "print(m.shape)\n",
        "print(m.ndim)\n",
        "print(m.size)"
      ],
      "metadata": {
        "colab": {
          "base_uri": "https://localhost:8080/"
        },
        "id": "PGbrtfqhLKtu",
        "outputId": "d4e6fe03-ae85-4864-e66d-36e2964ec07f"
      },
      "execution_count": null,
      "outputs": [
        {
          "output_type": "stream",
          "name": "stdout",
          "text": [
            "(2, 3)\n",
            "2\n",
            "6\n"
          ]
        }
      ]
    },
    {
      "cell_type": "code",
      "source": [
        "# create a 4*2 matrix\n",
        "\n",
        "a=np.array([[1,2],[2,3],[3,4],[4,5]])\n",
        "print(a.ndim)\n",
        "print(a.shape)\n",
        "print(a.size)"
      ],
      "metadata": {
        "colab": {
          "base_uri": "https://localhost:8080/"
        },
        "id": "IswjRya0Lnio",
        "outputId": "09a8a08f-99e5-4711-a728-d266dc7dbe17"
      },
      "execution_count": null,
      "outputs": [
        {
          "output_type": "stream",
          "name": "stdout",
          "text": [
            "2\n",
            "(4, 2)\n",
            "8\n"
          ]
        }
      ]
    },
    {
      "cell_type": "code",
      "source": [
        "# create a 4*4 matrix\n",
        "\n",
        "a=np.array([[1,2,4,3],[7,3,4,5],[5,4,5,6],[4,5,6,7]])\n",
        "print(a.ndim)\n",
        "print(a.shape)\n",
        "print(a.size)\n",
        "print(a)"
      ],
      "metadata": {
        "colab": {
          "base_uri": "https://localhost:8080/"
        },
        "id": "jTDk7UqtMoEb",
        "outputId": "2e8565b1-e025-4e9e-b94e-26b566864e8c"
      },
      "execution_count": null,
      "outputs": [
        {
          "output_type": "stream",
          "name": "stdout",
          "text": [
            "2\n",
            "(4, 4)\n",
            "16\n",
            "[[1 2 4 3]\n",
            " [7 3 4 5]\n",
            " [5 4 5 6]\n",
            " [4 5 6 7]]\n"
          ]
        }
      ]
    },
    {
      "cell_type": "markdown",
      "source": [
        "# **DAY 2**"
      ],
      "metadata": {
        "id": "0oAfvQ6RFXiY"
      }
    },
    {
      "cell_type": "code",
      "source": [
        "import numpy as np\n",
        "print(a[0])  # to access the first row\n",
        "print(a[:,0])  # to print the first column\n",
        "print(a[1,1])  # to access a specific number using row and column\n",
        "print(a[3,2:])  # to acces a set of adjacent numbers\n",
        "print(a[2:,2:])  # to acces a sub matrix inside the main matrix\n",
        "print(a[2,1:3])  # to access a sub martix  (a[start of row:end +1 of row,start of column:end+1 of column])\n",
        "print(a[1:3,3])\n",
        "print(a[1:,1:])"
      ],
      "metadata": {
        "id": "YBkIh-J7NuZQ",
        "colab": {
          "base_uri": "https://localhost:8080/"
        },
        "outputId": "e17aeb1c-b99c-4915-f1e2-8d5ace079498"
      },
      "execution_count": null,
      "outputs": [
        {
          "output_type": "stream",
          "name": "stdout",
          "text": [
            "[1 2 4 3]\n",
            "[1 7 5 4]\n",
            "3\n",
            "[6 7]\n",
            "[[5 6]\n",
            " [6 7]]\n",
            "[4 5]\n",
            "[5 6]\n",
            "[[3 4 5]\n",
            " [4 5 6]\n",
            " [5 6 7]]\n"
          ]
        }
      ]
    },
    {
      "cell_type": "code",
      "source": [
        "# zeo matrix\n",
        "\n",
        "z=np.zeros([3,3])  # np.zeros is used to print a zero martix  the dimensioon is given  in the brackets\n",
        "print(z)\n",
        "\n",
        "q=np.zeros([3,5],dtype=int)  # dtype is used to change the data type\n",
        "print(q)\n",
        "print()\n",
        "print()\n",
        "w=np.zeros([3,3,3])\n",
        "print(w)"
      ],
      "metadata": {
        "colab": {
          "base_uri": "https://localhost:8080/"
        },
        "id": "FMUjGVB1FV_1",
        "outputId": "941a516c-766d-494d-baa7-ab85cf48be4b"
      },
      "execution_count": null,
      "outputs": [
        {
          "output_type": "stream",
          "name": "stdout",
          "text": [
            "[[0. 0. 0.]\n",
            " [0. 0. 0.]\n",
            " [0. 0. 0.]]\n",
            "[[0 0 0 0 0]\n",
            " [0 0 0 0 0]\n",
            " [0 0 0 0 0]]\n",
            "\n",
            "\n",
            "[[[0. 0. 0.]\n",
            "  [0. 0. 0.]\n",
            "  [0. 0. 0.]]\n",
            "\n",
            " [[0. 0. 0.]\n",
            "  [0. 0. 0.]\n",
            "  [0. 0. 0.]]\n",
            "\n",
            " [[0. 0. 0.]\n",
            "  [0. 0. 0.]\n",
            "  [0. 0. 0.]]]\n"
          ]
        }
      ]
    },
    {
      "cell_type": "code",
      "source": [
        "# one matrix\n",
        "\n",
        "x=np.ones([3,3],dtype=int)\n",
        "print(x)"
      ],
      "metadata": {
        "colab": {
          "base_uri": "https://localhost:8080/"
        },
        "id": "S5_4xWACJx91",
        "outputId": "6d220f68-9e25-45d2-ad07-69fca896be8d"
      },
      "execution_count": null,
      "outputs": [
        {
          "output_type": "stream",
          "name": "stdout",
          "text": [
            "[[1 1 1]\n",
            " [1 1 1]\n",
            " [1 1 1]]\n"
          ]
        }
      ]
    },
    {
      "cell_type": "code",
      "source": [
        "# createe a 2*2 matrix\n",
        "\n",
        "a=np.array([[1,2],[3,4]])\n",
        "\n",
        "b=np.array([[3,1],[6,7]])\n"
      ],
      "metadata": {
        "id": "nDWLeIgJKthk"
      },
      "execution_count": null,
      "outputs": []
    },
    {
      "cell_type": "code",
      "source": [
        "#matrix addittion\n",
        "\n",
        "print(a+b)"
      ],
      "metadata": {
        "colab": {
          "base_uri": "https://localhost:8080/"
        },
        "id": "bQT0ZmC3K-gy",
        "outputId": "5ac6441d-af44-47a0-d2ff-8ea93e2af928"
      },
      "execution_count": null,
      "outputs": [
        {
          "output_type": "stream",
          "name": "stdout",
          "text": [
            "[[ 4  3]\n",
            " [ 9 11]]\n"
          ]
        }
      ]
    },
    {
      "cell_type": "code",
      "source": [
        "#matrix substraction\n",
        "\n",
        "print(a-b)"
      ],
      "metadata": {
        "colab": {
          "base_uri": "https://localhost:8080/"
        },
        "id": "U_PG8zsILbpU",
        "outputId": "7bdaa432-49d9-42a3-f4f0-4c055493e159"
      },
      "execution_count": null,
      "outputs": [
        {
          "output_type": "stream",
          "name": "stdout",
          "text": [
            "[[-2  1]\n",
            " [-3 -3]]\n"
          ]
        }
      ]
    },
    {
      "cell_type": "code",
      "source": [
        "# matrix multipliation\n",
        "print(a*b)  # not correct matrix multiplication\n",
        "print()\n",
        "print(a@b)  # @ is used to multiply matrix\n",
        "print()\n",
        "print(a.dot(b))  # _.dot(_) is also used to multiply matrix"
      ],
      "metadata": {
        "colab": {
          "base_uri": "https://localhost:8080/"
        },
        "id": "eZEcBTIVLp9O",
        "outputId": "78b3b2ec-9c6c-4f96-fe27-fcdcadd4afda"
      },
      "execution_count": null,
      "outputs": [
        {
          "output_type": "stream",
          "name": "stdout",
          "text": [
            "[[ 3  2]\n",
            " [18 28]]\n",
            "\n",
            "[[15 15]\n",
            " [33 31]]\n",
            "\n",
            "[[15 15]\n",
            " [33 31]]\n"
          ]
        }
      ]
    },
    {
      "cell_type": "code",
      "source": [
        "# matrix division\n",
        "print(a/b)"
      ],
      "metadata": {
        "colab": {
          "base_uri": "https://localhost:8080/"
        },
        "id": "C4VnsaYdL4dH",
        "outputId": "d7986d9b-57c0-4fff-ef49-6323d29d8470"
      },
      "execution_count": null,
      "outputs": [
        {
          "output_type": "stream",
          "name": "stdout",
          "text": [
            "[[0.33333333 2.        ]\n",
            " [0.5        0.57142857]]\n"
          ]
        }
      ]
    },
    {
      "cell_type": "code",
      "source": [
        "# full matrix  if all element in the matrix is same it is called full matrix\n",
        "\n",
        "z=np.full([3,3],5,dtype=int)  # ([dimension],element)\n",
        "z"
      ],
      "metadata": {
        "colab": {
          "base_uri": "https://localhost:8080/"
        },
        "id": "IXyqrjowNOUc",
        "outputId": "6446c793-deed-4bf1-bd55-9a98fd0acf70"
      },
      "execution_count": null,
      "outputs": [
        {
          "output_type": "execute_result",
          "data": {
            "text/plain": [
              "array([[5, 5, 5],\n",
              "       [5, 5, 5],\n",
              "       [5, 5, 5]])"
            ]
          },
          "metadata": {},
          "execution_count": 18
        }
      ]
    },
    {
      "cell_type": "code",
      "source": [
        "# create a 3*4 matrix with value 9 and data type comple\n",
        "\n",
        "z=np.full([3,4],9,dtype=complex)\n",
        "print(z)"
      ],
      "metadata": {
        "colab": {
          "base_uri": "https://localhost:8080/"
        },
        "id": "7sKyg3NtODvA",
        "outputId": "46426432-6666-43c7-9e6f-4c72573f7b0d"
      },
      "execution_count": null,
      "outputs": [
        {
          "output_type": "stream",
          "name": "stdout",
          "text": [
            "[[9.+0.j 9.+0.j 9.+0.j 9.+0.j]\n",
            " [9.+0.j 9.+0.j 9.+0.j 9.+0.j]\n",
            " [9.+0.j 9.+0.j 9.+0.j 9.+0.j]]\n"
          ]
        }
      ]
    },
    {
      "cell_type": "code",
      "source": [
        "# identity matrix  matrix with elements\n",
        "\n",
        "a=np.identity(3,dtype=int)\n",
        "print(a)\n",
        "\n",
        "z=np.eye(3) # it is aslo used to print identity matrix\n",
        "print(z)"
      ],
      "metadata": {
        "colab": {
          "base_uri": "https://localhost:8080/"
        },
        "id": "thZKhvDAOjz3",
        "outputId": "1705eef1-63a0-4bc2-c19f-5a1f7fd9c174"
      },
      "execution_count": null,
      "outputs": [
        {
          "output_type": "stream",
          "name": "stdout",
          "text": [
            "[[1 0 0]\n",
            " [0 1 0]\n",
            " [0 0 1]]\n",
            "[[1. 0. 0.]\n",
            " [0. 1. 0.]\n",
            " [0. 0. 1.]]\n"
          ]
        }
      ]
    },
    {
      "cell_type": "code",
      "source": [
        "# create a 4*4 matrix\n",
        "\n",
        "y=np.array([[1,2,3,4],[5,6,7,8],[9,10,11,12],[13,14,15,16]])\n",
        "print(y)\n",
        "\n",
        "a=y.reshape(8,2)  # reshape is used to change the shape of matrix the number of elements should be same for conversion\n",
        "# (8,2) menans 8 row 2 column\n",
        "print(a)"
      ],
      "metadata": {
        "colab": {
          "base_uri": "https://localhost:8080/"
        },
        "id": "5eG5IL-uPQQV",
        "outputId": "d460f40b-4803-4997-fc06-620a77c8e1bf"
      },
      "execution_count": null,
      "outputs": [
        {
          "output_type": "stream",
          "name": "stdout",
          "text": [
            "[[ 1  2  3  4]\n",
            " [ 5  6  7  8]\n",
            " [ 9 10 11 12]\n",
            " [13 14 15 16]]\n",
            "[[ 1  2]\n",
            " [ 3  4]\n",
            " [ 5  6]\n",
            " [ 7  8]\n",
            " [ 9 10]\n",
            " [11 12]\n",
            " [13 14]\n",
            " [15 16]]\n"
          ]
        }
      ]
    },
    {
      "cell_type": "code",
      "source": [
        "# arange   a particular range of numbers\n",
        "\n",
        "a=np.arange(1,10,2)  #(start,end+1,step)\n",
        "print(a)\n",
        "b=np.arange(1,12)\n",
        "print(b)"
      ],
      "metadata": {
        "colab": {
          "base_uri": "https://localhost:8080/"
        },
        "id": "w9q_J4gNQ_UF",
        "outputId": "cc96750a-709e-4f68-869e-b7e3e2fd6934"
      },
      "execution_count": null,
      "outputs": [
        {
          "output_type": "stream",
          "name": "stdout",
          "text": [
            "[1 3 5 7 9]\n",
            "[ 1  2  3  4  5  6  7  8  9 10 11]\n"
          ]
        }
      ]
    },
    {
      "cell_type": "code",
      "source": [
        "# create a 5*2 matrix using arange\n",
        "\n",
        "a=np.arange(1,11).reshape(5,2)  # arange for elements and reshape for the  coversion of it  into 5*2 matrix\n",
        "print(a)"
      ],
      "metadata": {
        "colab": {
          "base_uri": "https://localhost:8080/"
        },
        "id": "mTWYpb9aSRqp",
        "outputId": "48dc7065-24f7-497e-a597-46c2e8e8d9ce"
      },
      "execution_count": null,
      "outputs": [
        {
          "output_type": "stream",
          "name": "stdout",
          "text": [
            "[[ 1  2]\n",
            " [ 3  4]\n",
            " [ 5  6]\n",
            " [ 7  8]\n",
            " [ 9 10]]\n"
          ]
        }
      ]
    },
    {
      "cell_type": "code",
      "source": [
        "# create a 3*3 matrix with float values\n",
        "a=np.array([[2.5,3.6,3.5],[1.5,1.1,6.5],[7.1,2.5,7.1]])\n",
        "print(a)"
      ],
      "metadata": {
        "colab": {
          "base_uri": "https://localhost:8080/"
        },
        "id": "zDf6iTIFS8uN",
        "outputId": "3d1ed061-1d59-466e-d24f-76db2fbc2299"
      },
      "execution_count": null,
      "outputs": [
        {
          "output_type": "stream",
          "name": "stdout",
          "text": [
            "[[2.5 3.6 3.5]\n",
            " [1.5 1.1 6.5]\n",
            " [7.1 2.5 7.1]]\n"
          ]
        }
      ]
    },
    {
      "cell_type": "code",
      "source": [
        "#floor\n",
        "\n",
        "z=np.floor(a) #floor is used to round to lower value\n",
        "print(z)"
      ],
      "metadata": {
        "colab": {
          "base_uri": "https://localhost:8080/"
        },
        "id": "jQRXSwu5Tezm",
        "outputId": "018cdc00-799f-4a4a-f5b1-ead8ed235723"
      },
      "execution_count": null,
      "outputs": [
        {
          "output_type": "stream",
          "name": "stdout",
          "text": [
            "[[2. 3. 3.]\n",
            " [1. 1. 6.]\n",
            " [7. 2. 7.]]\n"
          ]
        }
      ]
    },
    {
      "cell_type": "code",
      "source": [
        "# ceil\n",
        "z=np.ceil(a)\n",
        "print(z)"
      ],
      "metadata": {
        "colab": {
          "base_uri": "https://localhost:8080/"
        },
        "id": "KJiMB5-EUyTD",
        "outputId": "949c4a25-0f43-483a-bdf0-c537b14761e2"
      },
      "execution_count": null,
      "outputs": [
        {
          "output_type": "stream",
          "name": "stdout",
          "text": [
            "[[3. 4. 4.]\n",
            " [2. 2. 7.]\n",
            " [8. 3. 8.]]\n"
          ]
        }
      ]
    },
    {
      "cell_type": "code",
      "source": [
        "# round\n",
        "z=np.round(a) # incase of .5 round toward even number\n",
        "print(z)"
      ],
      "metadata": {
        "colab": {
          "base_uri": "https://localhost:8080/"
        },
        "id": "5dwdBrzHVLKJ",
        "outputId": "25082d5c-ab75-4272-90f7-0e059458e44f"
      },
      "execution_count": null,
      "outputs": [
        {
          "output_type": "stream",
          "name": "stdout",
          "text": [
            "[[2. 4. 4.]\n",
            " [2. 1. 6.]\n",
            " [7. 2. 7.]]\n"
          ]
        }
      ]
    },
    {
      "cell_type": "code",
      "source": [
        "a=np.arange(1,10).reshape(3,3)\n",
        "print(a)\n",
        "\n",
        "print(a.max()) # to find the max element in the matrix\n",
        "\n",
        "print(a.max(axis=1))  #  axis is used to fiind the max elemnt in every row\n",
        "#axis=1 means row    axis=0 means column  in numpy\n",
        "\n",
        "print(a.min())\n",
        "print(a.min(axis=1))"
      ],
      "metadata": {
        "colab": {
          "base_uri": "https://localhost:8080/"
        },
        "id": "DS8RjB7ZW95J",
        "outputId": "7e44826f-4658-4b42-edfd-0ec7419bb394"
      },
      "execution_count": null,
      "outputs": [
        {
          "output_type": "stream",
          "name": "stdout",
          "text": [
            "[[1 2 3]\n",
            " [4 5 6]\n",
            " [7 8 9]]\n",
            "9\n",
            "[3 6 9]\n",
            "1\n",
            "[1 4 7]\n"
          ]
        }
      ]
    },
    {
      "cell_type": "code",
      "source": [
        "print(a.sum())\n",
        "print()\n",
        "print(a.sum(axis=1))\n",
        "print()\n",
        "print(a.sum(axis=0))\n",
        "print()\n",
        "print(np.sqrt(a))\n",
        "print()\n",
        "print(np.sin(a))\n",
        "print()\n",
        "print(np.cos(a))\n",
        "print()\n",
        "print(np.tan(a))"
      ],
      "metadata": {
        "colab": {
          "base_uri": "https://localhost:8080/"
        },
        "id": "P7QiEm3QVoCA",
        "outputId": "0925724e-401b-439d-a556-706e5311a246"
      },
      "execution_count": null,
      "outputs": [
        {
          "output_type": "stream",
          "name": "stdout",
          "text": [
            "45\n",
            "\n",
            "[ 6 15 24]\n",
            "\n",
            "[12 15 18]\n",
            "\n",
            "[[1.         1.41421356 1.73205081]\n",
            " [2.         2.23606798 2.44948974]\n",
            " [2.64575131 2.82842712 3.        ]]\n",
            "\n",
            "[[ 0.84147098  0.90929743  0.14112001]\n",
            " [-0.7568025  -0.95892427 -0.2794155 ]\n",
            " [ 0.6569866   0.98935825  0.41211849]]\n",
            "\n",
            "[[ 0.54030231 -0.41614684 -0.9899925 ]\n",
            " [-0.65364362  0.28366219  0.96017029]\n",
            " [ 0.75390225 -0.14550003 -0.91113026]]\n",
            "\n",
            "[[ 1.55740772 -2.18503986 -0.14254654]\n",
            " [ 1.15782128 -3.38051501 -0.29100619]\n",
            " [ 0.87144798 -6.79971146 -0.45231566]]\n"
          ]
        }
      ]
    },
    {
      "cell_type": "code",
      "source": [
        "print(a.flatten())  # to convert a matrix into a flat format or 1d format"
      ],
      "metadata": {
        "id": "VreUH6nrjt6l",
        "colab": {
          "base_uri": "https://localhost:8080/"
        },
        "outputId": "051b7546-f4ae-4753-f06d-0276c041f8c6"
      },
      "execution_count": 40,
      "outputs": [
        {
          "output_type": "stream",
          "name": "stdout",
          "text": [
            "[1 2 3 4 5 6 7 8 9]\n"
          ]
        }
      ]
    },
    {
      "cell_type": "code",
      "source": [
        "# sorting\n",
        "\n",
        "a=np.arange(3,30,3).reshape(3,3)\n",
        "print(a)\n",
        "print(np.sort(a,axis=1))\n",
        "print(np.argsort(a,axis=1)) #shows the index of sorted matrix"
      ],
      "metadata": {
        "colab": {
          "base_uri": "https://localhost:8080/"
        },
        "id": "nixX0w3flLZq",
        "outputId": "85ad5c5f-a720-4b4d-c665-95263782bcf9"
      },
      "execution_count": 48,
      "outputs": [
        {
          "output_type": "stream",
          "name": "stdout",
          "text": [
            "[[ 3  6  9]\n",
            " [12 15 18]\n",
            " [21 24 27]]\n",
            "[[ 3  6  9]\n",
            " [12 15 18]\n",
            " [21 24 27]]\n",
            "[[0 1 2]\n",
            " [0 1 2]\n",
            " [0 1 2]]\n"
          ]
        }
      ]
    },
    {
      "cell_type": "code",
      "source": [],
      "metadata": {
        "id": "va48kWXVljgl"
      },
      "execution_count": null,
      "outputs": []
    }
  ]
}
